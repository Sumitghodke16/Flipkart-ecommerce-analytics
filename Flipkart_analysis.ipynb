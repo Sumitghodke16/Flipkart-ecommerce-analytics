{
 "cells": [
  {
   "cell_type": "code",
   "execution_count": 1,
   "id": "38f552d3-a63e-4e46-b720-e43c50189d8d",
   "metadata": {},
   "outputs": [],
   "source": [
    "import pandas as pd\n",
    "import numpy as np \n",
    "import matplotlib.pyplot as plt\n",
    "import seaborn as sns"
   ]
  },
  {
   "cell_type": "code",
   "execution_count": 3,
   "id": "5e7e94e0-6dee-4a16-aca6-647b3c682692",
   "metadata": {},
   "outputs": [],
   "source": [
    "customer=pd.read_csv(r\"C:\\Users\\Sumit\\OneDrive\\Documents\\Prac_datasets\\Portfilio_project\\Flipkart_Customer.csv\")"
   ]
  },
  {
   "cell_type": "code",
   "execution_count": 34,
   "id": "821a5a5d-b89c-4c82-81ab-aeb66c726643",
   "metadata": {},
   "outputs": [
    {
     "data": {
      "text/html": [
       "<div>\n",
       "<style scoped>\n",
       "    .dataframe tbody tr th:only-of-type {\n",
       "        vertical-align: middle;\n",
       "    }\n",
       "\n",
       "    .dataframe tbody tr th {\n",
       "        vertical-align: top;\n",
       "    }\n",
       "\n",
       "    .dataframe thead th {\n",
       "        text-align: right;\n",
       "    }\n",
       "</style>\n",
       "<table border=\"1\" class=\"dataframe\">\n",
       "  <thead>\n",
       "    <tr style=\"text-align: right;\">\n",
       "      <th></th>\n",
       "      <th>customer_id</th>\n",
       "      <th>first_name</th>\n",
       "      <th>last_name</th>\n",
       "      <th>email</th>\n",
       "      <th>gender</th>\n",
       "      <th>city</th>\n",
       "      <th>country</th>\n",
       "      <th>join_date</th>\n",
       "    </tr>\n",
       "  </thead>\n",
       "  <tbody>\n",
       "    <tr>\n",
       "      <th>0</th>\n",
       "      <td>1</td>\n",
       "      <td>Siya</td>\n",
       "      <td>Davis</td>\n",
       "      <td>siya.davis@gmail.com</td>\n",
       "      <td>Female</td>\n",
       "      <td>Nagpur</td>\n",
       "      <td>India</td>\n",
       "      <td>9/24/2024</td>\n",
       "    </tr>\n",
       "    <tr>\n",
       "      <th>1</th>\n",
       "      <td>2</td>\n",
       "      <td>Benjamin</td>\n",
       "      <td>Patel</td>\n",
       "      <td>benjamin.patel@company.com</td>\n",
       "      <td>Male</td>\n",
       "      <td>Paris</td>\n",
       "      <td>France</td>\n",
       "      <td>9/28/2022</td>\n",
       "    </tr>\n",
       "    <tr>\n",
       "      <th>2</th>\n",
       "      <td>3</td>\n",
       "      <td>Leo</td>\n",
       "      <td>Williams</td>\n",
       "      <td>leo.williams@company.com</td>\n",
       "      <td>Other</td>\n",
       "      <td>Thane</td>\n",
       "      <td>India</td>\n",
       "      <td>4/21/2022</td>\n",
       "    </tr>\n",
       "    <tr>\n",
       "      <th>3</th>\n",
       "      <td>4</td>\n",
       "      <td>Amelia</td>\n",
       "      <td>Harris</td>\n",
       "      <td>amelia.harris@gmail.com</td>\n",
       "      <td>Female</td>\n",
       "      <td>Visakhapatnam</td>\n",
       "      <td>India</td>\n",
       "      <td>8/21/2023</td>\n",
       "    </tr>\n",
       "    <tr>\n",
       "      <th>4</th>\n",
       "      <td>5</td>\n",
       "      <td>Emma</td>\n",
       "      <td>Thomas</td>\n",
       "      <td>emma.thomas@hotmail.com</td>\n",
       "      <td>Male</td>\n",
       "      <td>Thane</td>\n",
       "      <td>India</td>\n",
       "      <td>10/17/2023</td>\n",
       "    </tr>\n",
       "  </tbody>\n",
       "</table>\n",
       "</div>"
      ],
      "text/plain": [
       "   customer_id first_name last_name                       email  gender  \\\n",
       "0            1       Siya     Davis        siya.davis@gmail.com  Female   \n",
       "1            2   Benjamin     Patel  benjamin.patel@company.com    Male   \n",
       "2            3        Leo  Williams    leo.williams@company.com   Other   \n",
       "3            4     Amelia    Harris     amelia.harris@gmail.com  Female   \n",
       "4            5       Emma    Thomas     emma.thomas@hotmail.com    Male   \n",
       "\n",
       "            city  country   join_date  \n",
       "0         Nagpur    India   9/24/2024  \n",
       "1          Paris   France   9/28/2022  \n",
       "2          Thane    India   4/21/2022  \n",
       "3  Visakhapatnam    India   8/21/2023  \n",
       "4          Thane    India  10/17/2023  "
      ]
     },
     "execution_count": 34,
     "metadata": {},
     "output_type": "execute_result"
    }
   ],
   "source": [
    "customer.head()"
   ]
  },
  {
   "cell_type": "code",
   "execution_count": 5,
   "id": "23a4c1f3-ce3b-4f30-93c0-35e8ed03db33",
   "metadata": {},
   "outputs": [
    {
     "data": {
      "text/plain": [
       "Customer_ID    0\n",
       "First_Name     0\n",
       "Last_Name      0\n",
       "Email          0\n",
       "Gender         0\n",
       "City           0\n",
       "Country        0\n",
       "Join_date      0\n",
       "dtype: int64"
      ]
     },
     "execution_count": 5,
     "metadata": {},
     "output_type": "execute_result"
    }
   ],
   "source": [
    "customer.isna().sum()"
   ]
  },
  {
   "cell_type": "code",
   "execution_count": 7,
   "id": "1cfbcba5-153b-4611-8ac1-80eb6be56d59",
   "metadata": {},
   "outputs": [],
   "source": [
    "orderdetails=pd.read_csv(r\"C:\\Users\\Sumit\\OneDrive\\Documents\\Prac_datasets\\Portfilio_project\\Flipkart_Orderdetails.csv\")"
   ]
  },
  {
   "cell_type": "code",
   "execution_count": 35,
   "id": "5f2696a6-0473-4028-a492-d1f146953938",
   "metadata": {},
   "outputs": [
    {
     "data": {
      "text/html": [
       "<div>\n",
       "<style scoped>\n",
       "    .dataframe tbody tr th:only-of-type {\n",
       "        vertical-align: middle;\n",
       "    }\n",
       "\n",
       "    .dataframe tbody tr th {\n",
       "        vertical-align: top;\n",
       "    }\n",
       "\n",
       "    .dataframe thead th {\n",
       "        text-align: right;\n",
       "    }\n",
       "</style>\n",
       "<table border=\"1\" class=\"dataframe\">\n",
       "  <thead>\n",
       "    <tr style=\"text-align: right;\">\n",
       "      <th></th>\n",
       "      <th>order_id</th>\n",
       "      <th>product_id</th>\n",
       "      <th>quantity</th>\n",
       "      <th>discount</th>\n",
       "      <th>payment_mode</th>\n",
       "    </tr>\n",
       "  </thead>\n",
       "  <tbody>\n",
       "    <tr>\n",
       "      <th>0</th>\n",
       "      <td>500001</td>\n",
       "      <td>2979</td>\n",
       "      <td>3</td>\n",
       "      <td>0%</td>\n",
       "      <td>Debit Card</td>\n",
       "    </tr>\n",
       "    <tr>\n",
       "      <th>1</th>\n",
       "      <td>500001</td>\n",
       "      <td>3631</td>\n",
       "      <td>4</td>\n",
       "      <td>15%</td>\n",
       "      <td>Wallet</td>\n",
       "    </tr>\n",
       "    <tr>\n",
       "      <th>2</th>\n",
       "      <td>500001</td>\n",
       "      <td>1504</td>\n",
       "      <td>1</td>\n",
       "      <td>14%</td>\n",
       "      <td>NetBanking</td>\n",
       "    </tr>\n",
       "    <tr>\n",
       "      <th>3</th>\n",
       "      <td>500001</td>\n",
       "      <td>1016</td>\n",
       "      <td>4</td>\n",
       "      <td>0%</td>\n",
       "      <td>Debit Card</td>\n",
       "    </tr>\n",
       "    <tr>\n",
       "      <th>4</th>\n",
       "      <td>500001</td>\n",
       "      <td>3160</td>\n",
       "      <td>1</td>\n",
       "      <td>2%</td>\n",
       "      <td>COD</td>\n",
       "    </tr>\n",
       "  </tbody>\n",
       "</table>\n",
       "</div>"
      ],
      "text/plain": [
       "   order_id  product_id  quantity discount payment_mode\n",
       "0    500001        2979         3       0%   Debit Card\n",
       "1    500001        3631         4      15%       Wallet\n",
       "2    500001        1504         1      14%   NetBanking\n",
       "3    500001        1016         4       0%   Debit Card\n",
       "4    500001        3160         1       2%          COD"
      ]
     },
     "execution_count": 35,
     "metadata": {},
     "output_type": "execute_result"
    }
   ],
   "source": [
    "orderdetails.head()"
   ]
  },
  {
   "cell_type": "code",
   "execution_count": 8,
   "id": "038a61bf-2c26-4d64-bf78-2d01e88682aa",
   "metadata": {},
   "outputs": [
    {
     "data": {
      "text/plain": [
       "order_id        0\n",
       "product_id      0\n",
       "quantity        0\n",
       "discount        0\n",
       "Payment_Mode    0\n",
       "dtype: int64"
      ]
     },
     "execution_count": 8,
     "metadata": {},
     "output_type": "execute_result"
    }
   ],
   "source": [
    "orderdetails.isnull().sum()"
   ]
  },
  {
   "cell_type": "code",
   "execution_count": 10,
   "id": "ef8abd35-6f37-481a-8e0e-1e3c96887cd3",
   "metadata": {},
   "outputs": [],
   "source": [
    "orders=pd.read_csv(r\"C:\\Users\\Sumit\\OneDrive\\Documents\\Prac_datasets\\Portfilio_project\\Flipkart_Orders.csv\")"
   ]
  },
  {
   "cell_type": "code",
   "execution_count": 36,
   "id": "cfd3ba0c-42e3-4e2e-8310-91e590999676",
   "metadata": {},
   "outputs": [
    {
     "data": {
      "text/html": [
       "<div>\n",
       "<style scoped>\n",
       "    .dataframe tbody tr th:only-of-type {\n",
       "        vertical-align: middle;\n",
       "    }\n",
       "\n",
       "    .dataframe tbody tr th {\n",
       "        vertical-align: top;\n",
       "    }\n",
       "\n",
       "    .dataframe thead th {\n",
       "        text-align: right;\n",
       "    }\n",
       "</style>\n",
       "<table border=\"1\" class=\"dataframe\">\n",
       "  <thead>\n",
       "    <tr style=\"text-align: right;\">\n",
       "      <th></th>\n",
       "      <th>order_id</th>\n",
       "      <th>customer_id</th>\n",
       "      <th>order_date</th>\n",
       "      <th>payment_mode</th>\n",
       "      <th>total_amount</th>\n",
       "    </tr>\n",
       "  </thead>\n",
       "  <tbody>\n",
       "    <tr>\n",
       "      <th>0</th>\n",
       "      <td>500001</td>\n",
       "      <td>4779</td>\n",
       "      <td>9/5/2024</td>\n",
       "      <td>NetBanking</td>\n",
       "      <td>533865</td>\n",
       "    </tr>\n",
       "    <tr>\n",
       "      <th>1</th>\n",
       "      <td>500002</td>\n",
       "      <td>5645</td>\n",
       "      <td>12/10/2024</td>\n",
       "      <td>Credit Card</td>\n",
       "      <td>126748</td>\n",
       "    </tr>\n",
       "    <tr>\n",
       "      <th>2</th>\n",
       "      <td>500003</td>\n",
       "      <td>2094</td>\n",
       "      <td>12/5/2023</td>\n",
       "      <td>Cash on Delivery</td>\n",
       "      <td>155802</td>\n",
       "    </tr>\n",
       "    <tr>\n",
       "      <th>3</th>\n",
       "      <td>500004</td>\n",
       "      <td>3574</td>\n",
       "      <td>12/14/2022</td>\n",
       "      <td>UPI</td>\n",
       "      <td>160658</td>\n",
       "    </tr>\n",
       "    <tr>\n",
       "      <th>4</th>\n",
       "      <td>500005</td>\n",
       "      <td>5432</td>\n",
       "      <td>8/14/2025</td>\n",
       "      <td>UPI</td>\n",
       "      <td>226190</td>\n",
       "    </tr>\n",
       "  </tbody>\n",
       "</table>\n",
       "</div>"
      ],
      "text/plain": [
       "   order_id  customer_id  order_date      payment_mode  total_amount\n",
       "0    500001         4779    9/5/2024        NetBanking        533865\n",
       "1    500002         5645  12/10/2024       Credit Card        126748\n",
       "2    500003         2094   12/5/2023  Cash on Delivery        155802\n",
       "3    500004         3574  12/14/2022               UPI        160658\n",
       "4    500005         5432   8/14/2025               UPI        226190"
      ]
     },
     "execution_count": 36,
     "metadata": {},
     "output_type": "execute_result"
    }
   ],
   "source": [
    "orders.head()"
   ]
  },
  {
   "cell_type": "code",
   "execution_count": 11,
   "id": "e0bebb49-2fbf-4dfc-ba01-5c4f0f09f52c",
   "metadata": {},
   "outputs": [
    {
     "data": {
      "text/plain": [
       "order_id        0\n",
       "customer_id     0\n",
       "order_date      0\n",
       "payment_mode    0\n",
       "total_amount    0\n",
       "dtype: int64"
      ]
     },
     "execution_count": 11,
     "metadata": {},
     "output_type": "execute_result"
    }
   ],
   "source": [
    "orders.isnull().sum()"
   ]
  },
  {
   "cell_type": "code",
   "execution_count": 13,
   "id": "da036d63-9ebe-48bc-a816-2310d7520c33",
   "metadata": {},
   "outputs": [],
   "source": [
    "products=pd.read_csv(r\"C:\\Users\\Sumit\\OneDrive\\Documents\\Prac_datasets\\Portfilio_project\\Flipkart_Products.csv\")"
   ]
  },
  {
   "cell_type": "code",
   "execution_count": 37,
   "id": "a8a30d15-cca6-4d51-892d-66fbd39dc4ed",
   "metadata": {},
   "outputs": [
    {
     "data": {
      "text/html": [
       "<div>\n",
       "<style scoped>\n",
       "    .dataframe tbody tr th:only-of-type {\n",
       "        vertical-align: middle;\n",
       "    }\n",
       "\n",
       "    .dataframe tbody tr th {\n",
       "        vertical-align: top;\n",
       "    }\n",
       "\n",
       "    .dataframe thead th {\n",
       "        text-align: right;\n",
       "    }\n",
       "</style>\n",
       "<table border=\"1\" class=\"dataframe\">\n",
       "  <thead>\n",
       "    <tr style=\"text-align: right;\">\n",
       "      <th></th>\n",
       "      <th>product_id</th>\n",
       "      <th>category</th>\n",
       "      <th>brand</th>\n",
       "      <th>price</th>\n",
       "    </tr>\n",
       "  </thead>\n",
       "  <tbody>\n",
       "    <tr>\n",
       "      <th>0</th>\n",
       "      <td>2204</td>\n",
       "      <td>Fashion</td>\n",
       "      <td>Heritage</td>\n",
       "      <td>4490</td>\n",
       "    </tr>\n",
       "    <tr>\n",
       "      <th>1</th>\n",
       "      <td>3828</td>\n",
       "      <td>Beauty &amp; Personal Care</td>\n",
       "      <td>RootRise</td>\n",
       "      <td>10000</td>\n",
       "    </tr>\n",
       "    <tr>\n",
       "      <th>2</th>\n",
       "      <td>3326</td>\n",
       "      <td>Home &amp; Kitchen</td>\n",
       "      <td>CoolBreeze</td>\n",
       "      <td>35000</td>\n",
       "    </tr>\n",
       "    <tr>\n",
       "      <th>3</th>\n",
       "      <td>4917</td>\n",
       "      <td>Sports &amp; Outdoors</td>\n",
       "      <td>MotionMade</td>\n",
       "      <td>2070</td>\n",
       "    </tr>\n",
       "    <tr>\n",
       "      <th>4</th>\n",
       "      <td>4822</td>\n",
       "      <td>Sports &amp; Outdoors</td>\n",
       "      <td>FlexForge</td>\n",
       "      <td>7960</td>\n",
       "    </tr>\n",
       "  </tbody>\n",
       "</table>\n",
       "</div>"
      ],
      "text/plain": [
       "   product_id                category       brand  price\n",
       "0        2204                 Fashion    Heritage   4490\n",
       "1        3828  Beauty & Personal Care    RootRise  10000\n",
       "2        3326          Home & Kitchen  CoolBreeze  35000\n",
       "3        4917       Sports & Outdoors  MotionMade   2070\n",
       "4        4822       Sports & Outdoors   FlexForge   7960"
      ]
     },
     "execution_count": 37,
     "metadata": {},
     "output_type": "execute_result"
    }
   ],
   "source": [
    "products.head()"
   ]
  },
  {
   "cell_type": "code",
   "execution_count": 16,
   "id": "c4a5b9af-f627-4028-bc27-7dfb68493038",
   "metadata": {},
   "outputs": [
    {
     "data": {
      "text/plain": [
       "Product_ID    0\n",
       "Category      0\n",
       "Brand         0\n",
       "Price         0\n",
       "dtype: int64"
      ]
     },
     "execution_count": 16,
     "metadata": {},
     "output_type": "execute_result"
    }
   ],
   "source": [
    "products.isnull().sum()"
   ]
  },
  {
   "cell_type": "code",
   "execution_count": 18,
   "id": "66cae520-babc-4692-8f75-cf6c17f1d0fa",
   "metadata": {},
   "outputs": [],
   "source": [
    "returns=pd.read_csv(r\"C:\\Users\\Sumit\\OneDrive\\Documents\\Prac_datasets\\Portfilio_project\\Flipkart_Returns.csv\")"
   ]
  },
  {
   "cell_type": "code",
   "execution_count": 38,
   "id": "c98d7ab1-1dbc-41c9-a64c-c2997e52368c",
   "metadata": {},
   "outputs": [
    {
     "data": {
      "text/html": [
       "<div>\n",
       "<style scoped>\n",
       "    .dataframe tbody tr th:only-of-type {\n",
       "        vertical-align: middle;\n",
       "    }\n",
       "\n",
       "    .dataframe tbody tr th {\n",
       "        vertical-align: top;\n",
       "    }\n",
       "\n",
       "    .dataframe thead th {\n",
       "        text-align: right;\n",
       "    }\n",
       "</style>\n",
       "<table border=\"1\" class=\"dataframe\">\n",
       "  <thead>\n",
       "    <tr style=\"text-align: right;\">\n",
       "      <th></th>\n",
       "      <th>return_id</th>\n",
       "      <th>order_id</th>\n",
       "      <th>reason</th>\n",
       "      <th>return_date</th>\n",
       "    </tr>\n",
       "  </thead>\n",
       "  <tbody>\n",
       "    <tr>\n",
       "      <th>0</th>\n",
       "      <td>900001</td>\n",
       "      <td>524292</td>\n",
       "      <td>Arrived Late</td>\n",
       "      <td>8/19/2024</td>\n",
       "    </tr>\n",
       "    <tr>\n",
       "      <th>1</th>\n",
       "      <td>900002</td>\n",
       "      <td>524295</td>\n",
       "      <td>Size/Fit Issue</td>\n",
       "      <td>1/1/2025</td>\n",
       "    </tr>\n",
       "    <tr>\n",
       "      <th>2</th>\n",
       "      <td>900003</td>\n",
       "      <td>516105</td>\n",
       "      <td>Size/Fit Issue</td>\n",
       "      <td>6/12/2023</td>\n",
       "    </tr>\n",
       "    <tr>\n",
       "      <th>3</th>\n",
       "      <td>900004</td>\n",
       "      <td>524300</td>\n",
       "      <td>Size/Fit Issue</td>\n",
       "      <td>4/21/2025</td>\n",
       "    </tr>\n",
       "    <tr>\n",
       "      <th>4</th>\n",
       "      <td>900005</td>\n",
       "      <td>524308</td>\n",
       "      <td>Arrived Late</td>\n",
       "      <td>3/16/2024</td>\n",
       "    </tr>\n",
       "  </tbody>\n",
       "</table>\n",
       "</div>"
      ],
      "text/plain": [
       "   return_id  order_id          reason return_date\n",
       "0     900001    524292    Arrived Late   8/19/2024\n",
       "1     900002    524295  Size/Fit Issue    1/1/2025\n",
       "2     900003    516105  Size/Fit Issue   6/12/2023\n",
       "3     900004    524300  Size/Fit Issue   4/21/2025\n",
       "4     900005    524308    Arrived Late   3/16/2024"
      ]
     },
     "execution_count": 38,
     "metadata": {},
     "output_type": "execute_result"
    }
   ],
   "source": [
    "returns.head()"
   ]
  },
  {
   "cell_type": "code",
   "execution_count": 19,
   "id": "598a4370-b8bc-410d-a093-e28e3b25ff57",
   "metadata": {},
   "outputs": [
    {
     "data": {
      "text/plain": [
       "Return_ID      0\n",
       "Order_ID       0\n",
       "Reason         0\n",
       "Return_Date    0\n",
       "dtype: int64"
      ]
     },
     "execution_count": 19,
     "metadata": {},
     "output_type": "execute_result"
    }
   ],
   "source": [
    "returns.isnull().sum()"
   ]
  },
  {
   "cell_type": "code",
   "execution_count": 32,
   "id": "3eb069cc-a02c-4d15-b40b-dda05f09d034",
   "metadata": {},
   "outputs": [],
   "source": [
    "customer.columns = customer.columns.str.lower()\n",
    "orders.columns = orders.columns.str.lower()\n",
    "orderdetails.columns = orderdetails.columns.str.lower()\n",
    "products.columns = products.columns.str.lower()\n",
    "returns.columns = returns.columns.str.lower()"
   ]
  },
  {
   "cell_type": "code",
   "execution_count": 39,
   "id": "4128ec33-9ea3-427b-b8b6-6332f3e7eab1",
   "metadata": {},
   "outputs": [],
   "source": [
    "# Merge orders with customers (on customer_id)\n",
    "master_df = orders.merge(customer, on=\"customer_id\", how=\"left\")\n",
    "\n",
    "# Add orderdetails (on order_id)\n",
    "master_df = master_df.merge(orderdetails, on=\"order_id\", how=\"left\")\n",
    "\n",
    "# Add products (on product_id)\n",
    "master_df = master_df.merge(products, on=\"product_id\", how=\"left\")\n",
    "\n",
    "# Add returns (on order_id) – left join keeps all orders\n",
    "master_df = master_df.merge(returns, on=\"order_id\", how=\"left\")"
   ]
  },
  {
   "cell_type": "markdown",
   "id": "74ca2d18-1557-455e-8cf1-15cdfe165b6e",
   "metadata": {},
   "source": [
    "# Sales & Revenue Insights"
   ]
  },
  {
   "cell_type": "markdown",
   "id": "8978320e-f7e0-4673-8598-1cc418ca24e7",
   "metadata": {},
   "source": [
    "## What is the total_amount contribution of each day of the week?"
   ]
  },
  {
   "cell_type": "code",
   "execution_count": 42,
   "id": "7c8a2865-d2d1-4451-ac97-d1578a3e0d4a",
   "metadata": {},
   "outputs": [
    {
     "name": "stdout",
     "output_type": "stream",
     "text": [
      "order_day\n",
      "Monday       2954299645\n",
      "Saturday     2937838447\n",
      "Friday       2902919233\n",
      "Thursday     2882258087\n",
      "Tuesday      2851683874\n",
      "Sunday       2841516985\n",
      "Wednesday    2811968738\n",
      "Name: total_amount, dtype: int64\n"
     ]
    }
   ],
   "source": [
    "master_df['order_day'] = pd.to_datetime(master_df['order_date']).dt.day_name()\n",
    "day_total_amount = master_df.groupby('order_day')['total_amount'].sum().sort_values(ascending=False)\n",
    "print(day_total_amount)\n"
   ]
  },
  {
   "cell_type": "markdown",
   "id": "c6827a33-baa5-4de2-b280-8913b583bc72",
   "metadata": {},
   "source": [
    "## What is the hourly order distribution (peak shopping hours)?"
   ]
  },
  {
   "cell_type": "code",
   "execution_count": 47,
   "id": "29852d96-3215-4c98-bdf1-d504349be95c",
   "metadata": {},
   "outputs": [
    {
     "data": {
      "text/plain": [
       "<Axes: xlabel='order_hour'>"
      ]
     },
     "execution_count": 47,
     "metadata": {},
     "output_type": "execute_result"
    },
    {
     "data": {
      "image/png": "[encoded data removed]",
      "text/plain": [
       "<Figure size 300x500 with 1 Axes>"
      ]
     },
     "metadata": {},
     "output_type": "display_data"
    }
   ],
   "source": [
    "master_df['order_hour'] = pd.to_datetime(master_df['order_date']).dt.hour\n",
    "hourly_orders = master_df.groupby('order_hour')['order_id'].nunique()\n",
    "hourly_orders.plot(kind='bar', figsize=(3,5))\n"
   ]
  },
  {
   "cell_type": "markdown",
   "id": "7b7b836f-c933-440b-8f68-620d5e4e525e",
   "metadata": {},
   "source": [
    "## Which product categories have the highest discount rates on average?"
   ]
  },
  {
   "cell_type": "code",
   "execution_count": 53,
   "id": "e10fc9c7-3ec8-47fa-b6a2-64e78ea48ebe",
   "metadata": {},
   "outputs": [
    {
     "name": "stdout",
     "output_type": "stream",
     "text": [
      "category\n",
      "Beauty & Personal Care    8.425639\n",
      "Sports & Outdoors         8.397074\n",
      "Home & Kitchen            8.393207\n",
      "Fashion                   8.392630\n",
      "Electronics               8.388242\n",
      "Name: discount_clean, dtype: float64\n"
     ]
    }
   ],
   "source": [
    "# Extract the first percentage value from each cell\n",
    "master_df['discount_clean'] = master_df['discount'].str.extract(r'(\\d+)%').astype(float)\n",
    "\n",
    "# Now calculate mean discounts by category\n",
    "category_discounts = master_df.groupby('category')['discount_clean'].mean().sort_values(ascending=False)\n",
    "print(category_discounts)"
   ]
  },
  {
   "cell_type": "markdown",
   "id": "cc92e927-948f-470b-9633-a730f0706244",
   "metadata": {},
   "source": [
    "## What percentage of total amount comes from top 10% of products?"
   ]
  },
  {
   "cell_type": "code",
   "execution_count": 56,
   "id": "721915ea-2eaf-4355-b511-fd8d2c2160e9",
   "metadata": {},
   "outputs": [
    {
     "name": "stdout",
     "output_type": "stream",
     "text": [
      "Top 10% products contribute 20.99% of totalamount\n"
     ]
    }
   ],
   "source": [
    "product_rev = master_df.groupby('product_id')['total_amount'].sum().sort_values(ascending=False)\n",
    "top10_share = product_rev.head(int(len(product_rev)*0.1)).sum() / product_rev.sum() * 100\n",
    "print(f\"Top 10% products contribute {top10_share:.2f}% of totalamount\")"
   ]
  },
  {
   "cell_type": "markdown",
   "id": "1e1d4d11-621e-449b-a284-55b63bb54344",
   "metadata": {},
   "source": [
    "# Customer Insights"
   ]
  },
  {
   "cell_type": "markdown",
   "id": "b98b6f0e-57b2-4384-9253-c3a69b1b7145",
   "metadata": {},
   "source": [
    "## What is the gender ratio of total orders?"
   ]
  },
  {
   "cell_type": "code",
   "execution_count": 57,
   "id": "521de105-81c6-4546-8165-4f11f06254f7",
   "metadata": {},
   "outputs": [
    {
     "data": {
      "text/plain": [
       "<Axes: xlabel='gender'>"
      ]
     },
     "execution_count": 57,
     "metadata": {},
     "output_type": "execute_result"
    },
    {
     "data": {
      "image/png": "[encoded data removed]",
      "text/plain": [
       "<Figure size 640x480 with 1 Axes>"
      ]
     },
     "metadata": {},
     "output_type": "display_data"
    }
   ],
   "source": [
    "gender_orders = master_df.groupby('gender')['order_id'].nunique()\n",
    "sns.barplot(x=gender_orders.index, y=gender_orders.values)"
   ]
  },
  {
   "cell_type": "markdown",
   "id": "2dd63793-e88b-459d-a883-0a2ffb98deb9",
   "metadata": {},
   "source": [
    "## What is the total revenue per month (trend analysis)?"
   ]
  },
  {
   "cell_type": "code",
   "execution_count": 61,
   "id": "796c9975-c2c0-45a5-bf8a-0e748058d837",
   "metadata": {},
   "outputs": [
    {
     "name": "stdout",
     "output_type": "stream",
     "text": [
      "year_month\n",
      "2022-01      9196006\n",
      "2022-02     11991017\n",
      "2022-03     43459073\n",
      "2022-04     50290855\n",
      "2022-05     61286399\n",
      "2022-06     86861411\n",
      "2022-07     88622139\n",
      "2022-08    100217873\n",
      "2022-09    113155806\n",
      "2022-10    138234961\n",
      "2022-11    199112395\n",
      "2022-12    210738498\n",
      "2023-01    202498801\n",
      "2023-02    227768734\n",
      "2023-03    234412926\n",
      "2023-04    278585550\n",
      "2023-05    282266037\n",
      "2023-06    277170250\n",
      "2023-07    377454699\n",
      "2023-08    356962884\n",
      "2023-09    398242926\n",
      "2023-10    439857555\n",
      "2023-11    429890137\n",
      "2023-12    506009454\n",
      "2024-01    509897496\n",
      "2024-02    523064942\n",
      "2024-03    569854433\n",
      "2024-04    564175279\n",
      "2024-05    624866069\n",
      "2024-06    667638002\n",
      "2024-07    759766649\n",
      "2024-08    787267707\n",
      "2024-09    783178393\n",
      "2024-10    922087580\n",
      "2024-11    872314674\n",
      "2024-12    922261121\n",
      "2025-01    852597301\n",
      "2025-02    856019975\n",
      "2025-03    917997672\n",
      "2025-04    845581418\n",
      "2025-05    899582980\n",
      "2025-06    879218464\n",
      "2025-07    879242626\n",
      "2025-08    421585842\n",
      "Freq: M, Name: total_amount, dtype: int64\n"
     ]
    }
   ],
   "source": [
    "# Convert order_date to datetime\n",
    "master_df['order_date'] = pd.to_datetime(master_df['order_date'])\n",
    "\n",
    "# Extract year-month\n",
    "master_df['year_month'] = master_df['order_date'].dt.to_period('M')\n",
    "\n",
    "# Monthly revenue\n",
    "monthly_revenue = master_df.groupby('year_month')['total_amount'].sum()\n",
    "print(monthly_revenue)\n"
   ]
  },
  {
   "cell_type": "markdown",
   "id": "95ea4d23-7a49-4036-840f-310dd1ecde16",
   "metadata": {},
   "source": [
    "## What is the Average Order Value (AOV) by payment mode?"
   ]
  },
  {
   "cell_type": "code",
   "execution_count": 62,
   "id": "b2896c61-a965-4b23-ad6d-6031dc5f5feb",
   "metadata": {},
   "outputs": [
    {
     "name": "stdout",
     "output_type": "stream",
     "text": [
      "payment_mode_x\n",
      "Cash on Delivery    229344.607716\n",
      "UPI                 227371.993135\n",
      "NetBanking          223500.011780\n",
      "Wallet              223373.838740\n",
      "Credit Card         222909.190812\n",
      "Debit Card          221004.898917\n",
      "Name: total_amount, dtype: float64\n"
     ]
    }
   ],
   "source": [
    "aov_payment = master_df.groupby('payment_mode_x')['total_amount'].mean().sort_values(ascending=False)\n",
    "print(aov_payment)"
   ]
  },
  {
   "cell_type": "markdown",
   "id": "148ab3c9-b899-4f41-bff5-11fe2242cd39",
   "metadata": {},
   "source": [
    "## Which brand generates the most revenue overall?"
   ]
  },
  {
   "cell_type": "code",
   "execution_count": 63,
   "id": "f09f4a19-c257-4f57-a0a4-d6bfd75870d4",
   "metadata": {},
   "outputs": [
    {
     "name": "stdout",
     "output_type": "stream",
     "text": [
      "brand\n",
      "CoreLink       934429748\n",
      "ApexOne        930457509\n",
      "TechSphere     929631244\n",
      "ElectraNova    827894853\n",
      "Zentrix        774499541\n",
      "GigaMax        701839382\n",
      "BlueWave       699516061\n",
      "OrbitX         623504484\n",
      "PulseGear      523564601\n",
      "HomePulse      519391944\n",
      "Name: total_amount, dtype: int64\n"
     ]
    }
   ],
   "source": [
    "brand_revenue = master_df.groupby('brand')['total_amount'].sum().sort_values(ascending=False).head(10)\n",
    "print(brand_revenue)\n"
   ]
  },
  {
   "cell_type": "markdown",
   "id": "4564415a-a5d9-4285-949b-ace8b98f6708",
   "metadata": {},
   "source": [
    "# Customer Insights"
   ]
  },
  {
   "cell_type": "markdown",
   "id": "7cccbc0c-e417-4dec-979a-e713458b8f13",
   "metadata": {},
   "source": [
    "## How many new customers joined each month?"
   ]
  },
  {
   "cell_type": "code",
   "execution_count": 64,
   "id": "96568275-4c2b-40d3-af6f-bedf6d33f74b",
   "metadata": {},
   "outputs": [
    {
     "name": "stdout",
     "output_type": "stream",
     "text": [
      "join_month\n",
      "2022-01    312\n",
      "2022-02    238\n",
      "2022-03    289\n",
      "2022-04    296\n",
      "2022-05    299\n",
      "2022-06    250\n",
      "2022-07    298\n",
      "2022-08    283\n",
      "2022-09    269\n",
      "2022-10    294\n",
      "2022-11    307\n",
      "2022-12    269\n",
      "2023-01    274\n",
      "2023-02    254\n",
      "2023-03    293\n",
      "2023-04    286\n",
      "2023-05    282\n",
      "2023-06    279\n",
      "2023-07    314\n",
      "2023-08    330\n",
      "2023-09    276\n",
      "2023-10    301\n",
      "2023-11    273\n",
      "2023-12    280\n",
      "2024-01    296\n",
      "2024-02    273\n",
      "2024-03    243\n",
      "2024-04    264\n",
      "2024-05    297\n",
      "2024-06    267\n",
      "2024-07    291\n",
      "2024-08    303\n",
      "2024-09    255\n",
      "2024-10    163\n",
      "Freq: M, Name: customer_id, dtype: int64\n"
     ]
    }
   ],
   "source": [
    "master_df['join_date'] = pd.to_datetime(master_df['join_date'])\n",
    "master_df['join_month'] = master_df['join_date'].dt.to_period('M')\n",
    "\n",
    "new_customers = master_df.groupby('join_month')['customer_id'].nunique()\n",
    "print(new_customers)\n"
   ]
  },
  {
   "cell_type": "markdown",
   "id": "f45de547-76e1-40d1-84d3-698341f38f41",
   "metadata": {},
   "source": [
    "## What is the gender distribution of revenue?"
   ]
  },
  {
   "cell_type": "code",
   "execution_count": 65,
   "id": "5c4f7b98-a290-41d9-9569-c63b6d1e10e9",
   "metadata": {},
   "outputs": [
    {
     "name": "stdout",
     "output_type": "stream",
     "text": [
      "gender\n",
      "Female    9837373339\n",
      "Male      9453484245\n",
      "Other      891627425\n",
      "Name: total_amount, dtype: int64\n"
     ]
    }
   ],
   "source": [
    "gender_rev = master_df.groupby('gender')['total_amount'].sum()\n",
    "print(gender_rev)\n"
   ]
  },
  {
   "cell_type": "markdown",
   "id": "590b4a5e-e2c3-4731-bf86-ab00987536ed",
   "metadata": {},
   "source": [
    "## Which city contributes the most customers?"
   ]
  },
  {
   "cell_type": "code",
   "execution_count": 66,
   "id": "c10bf8b1-52cc-4803-8596-55b4e60cd8db",
   "metadata": {},
   "outputs": [
    {
     "name": "stdout",
     "output_type": "stream",
     "text": [
      "city\n",
      "Paris        368\n",
      "Lucknow      367\n",
      "Mumbai       361\n",
      "Singapore    353\n",
      "Tokyo        353\n",
      "Bengaluru    348\n",
      "Berlin       346\n",
      "Ahmedabad    340\n",
      "Patna        339\n",
      "Dubai        336\n",
      "Name: customer_id, dtype: int64\n"
     ]
    }
   ],
   "source": [
    "city_customers = master_df.groupby('city')['customer_id'].nunique().sort_values(ascending=False).head(10)\n",
    "print(city_customers)\n"
   ]
  },
  {
   "cell_type": "markdown",
   "id": "70006183-4a59-44f8-aaa9-b4e42e84445a",
   "metadata": {},
   "source": [
    "# Product & Category Insights"
   ]
  },
  {
   "cell_type": "markdown",
   "id": "f168e0df-736f-44b2-adb6-73c286b81257",
   "metadata": {},
   "source": [
    "## Which categories generate the highest revenue?"
   ]
  },
  {
   "cell_type": "code",
   "execution_count": 67,
   "id": "9c47ef4e-c3ab-4489-8ead-c90552919780",
   "metadata": {},
   "outputs": [
    {
     "name": "stdout",
     "output_type": "stream",
     "text": [
      "category\n",
      "Electronics               6421772822\n",
      "Home & Kitchen            3753751878\n",
      "Sports & Outdoors         3617265908\n",
      "Fashion                   3246800468\n",
      "Beauty & Personal Care    3142893933\n",
      "Name: total_amount, dtype: int64\n"
     ]
    }
   ],
   "source": [
    "category_rev = master_df.groupby('category')['total_amount'].sum().sort_values(ascending=False)\n",
    "print(category_rev)\n"
   ]
  },
  {
   "cell_type": "markdown",
   "id": "1046d6e6-c87e-4e1c-b817-9ee709457764",
   "metadata": {},
   "source": [
    "## What is the average discount applied by category?"
   ]
  },
  {
   "cell_type": "code",
   "execution_count": 68,
   "id": "ebbbc15a-b3b2-4727-8af1-0b51b736c98f",
   "metadata": {},
   "outputs": [
    {
     "name": "stdout",
     "output_type": "stream",
     "text": [
      "category\n",
      "Beauty & Personal Care    8.425639\n",
      "Sports & Outdoors         8.397074\n",
      "Home & Kitchen            8.393207\n",
      "Fashion                   8.392630\n",
      "Electronics               8.388242\n",
      "Name: discount_clean, dtype: float64\n"
     ]
    }
   ],
   "source": [
    "category_discount = master_df.groupby('category')['discount_clean'].mean().sort_values(ascending=False)\n",
    "print(category_discount)\n"
   ]
  },
  {
   "cell_type": "markdown",
   "id": "b1fc93d3-c4ef-4c37-b8f3-0db8c2baedfe",
   "metadata": {},
   "source": [
    "## Which products are the bestsellers (by quantity sold)?"
   ]
  },
  {
   "cell_type": "code",
   "execution_count": 69,
   "id": "751af519-80e8-4221-9ec4-140008e50e2d",
   "metadata": {},
   "outputs": [
    {
     "name": "stdout",
     "output_type": "stream",
     "text": [
      "product_id\n",
      "2553    112\n",
      "1134    111\n",
      "4442    108\n",
      "4508    102\n",
      "3755    100\n",
      "4100     99\n",
      "4132     97\n",
      "3395     97\n",
      "2863     96\n",
      "4115     96\n",
      "Name: quantity, dtype: int64\n"
     ]
    }
   ],
   "source": [
    "product_sales = master_df.groupby('product_id')['quantity'].sum().sort_values(ascending=False).head(10)\n",
    "print(product_sales)\n"
   ]
  },
  {
   "cell_type": "markdown",
   "id": "5a74b5f1-d0ff-4253-91dc-a5b0fd624d82",
   "metadata": {},
   "source": [
    "# Returns & Refunds"
   ]
  },
  {
   "cell_type": "markdown",
   "id": "dddf3d16-ca27-4414-b1c9-80848318a8cf",
   "metadata": {},
   "source": [
    "## What is the overall return rate (% of orders returned)?"
   ]
  },
  {
   "cell_type": "code",
   "execution_count": 70,
   "id": "e875a068-b6c7-4559-a543-c06a43bbc683",
   "metadata": {},
   "outputs": [
    {
     "name": "stdout",
     "output_type": "stream",
     "text": [
      "Overall Return Rate: 11.97%\n"
     ]
    }
   ],
   "source": [
    "return_rate = master_df['return_id'].notnull().mean() * 100\n",
    "print(f\"Overall Return Rate: {return_rate:.2f}%\")\n"
   ]
  },
  {
   "cell_type": "markdown",
   "id": "b6faf52d-5d5f-4e04-8cb6-9c9cbb117213",
   "metadata": {},
   "source": [
    "## Which brands have the highest return rate?"
   ]
  },
  {
   "cell_type": "code",
   "execution_count": 71,
   "id": "316528af-b370-4da6-94fc-959e03666e87",
   "metadata": {},
   "outputs": [
    {
     "name": "stdout",
     "output_type": "stream",
     "text": [
      "brand\n",
      "Zentrix       0.131360\n",
      "FlexForge     0.130347\n",
      "ZenLiving     0.130147\n",
      "GlowWell      0.129211\n",
      "Heritage      0.128791\n",
      "SilkStrand    0.127257\n",
      "PureLeaf      0.127182\n",
      "PeakPath      0.123867\n",
      "VelvetMist    0.123835\n",
      "CorePlus      0.123383\n",
      "Name: return_id, dtype: float64\n"
     ]
    }
   ],
   "source": [
    "brand_return_rate = master_df.groupby('brand')['return_id'].apply(lambda x: x.notnull().mean()).sort_values(ascending=False).head(10)\n",
    "print(brand_return_rate)\n"
   ]
  },
  {
   "cell_type": "markdown",
   "id": "630f7a0e-9b86-4448-81aa-2a6daca8fa57",
   "metadata": {},
   "source": [
    "## What are the top 5 most common reasons for returns?"
   ]
  },
  {
   "cell_type": "code",
   "execution_count": 72,
   "id": "03892fe9-008d-492b-af76-c166bc9cd920",
   "metadata": {},
   "outputs": [
    {
     "name": "stdout",
     "output_type": "stream",
     "text": [
      "reason\n",
      "Wrong Item Delivered       1898\n",
      "Size/Fit Issue             1859\n",
      "Damaged/Defective          1826\n",
      "Quality Not As Expected    1822\n",
      "Changed Mind               1675\n",
      "Name: count, dtype: int64\n"
     ]
    }
   ],
   "source": [
    "reason_counts = master_df['reason'].value_counts().head(5)\n",
    "print(reason_counts)\n"
   ]
  },
  {
   "cell_type": "markdown",
   "id": "be2481f5-d62c-4a31-a191-4828320edbf9",
   "metadata": {},
   "source": [
    "# Payment Behavior"
   ]
  },
  {
   "cell_type": "markdown",
   "id": "eec5e3de-424d-47e2-870e-e7e0427bd868",
   "metadata": {},
   "source": [
    "## What is the distribution of payment methods used?"
   ]
  },
  {
   "cell_type": "code",
   "execution_count": 73,
   "id": "fb708337-9189-4f88-a1ab-5dee3d1ba9b7",
   "metadata": {},
   "outputs": [
    {
     "name": "stdout",
     "output_type": "stream",
     "text": [
      "payment_mode_x\n",
      "UPI                 17.020164\n",
      "NetBanking          16.814297\n",
      "Debit Card          16.645153\n",
      "Credit Card         16.591739\n",
      "Cash on Delivery    16.498264\n",
      "Wallet              16.430384\n",
      "Name: proportion, dtype: float64\n"
     ]
    }
   ],
   "source": [
    "payment_distribution = master_df['payment_mode_x'].value_counts(normalize=True) * 100\n",
    "print(payment_distribution)\n"
   ]
  },
  {
   "cell_type": "markdown",
   "id": "6461c8c0-1ce8-4432-9974-8fc83872ef11",
   "metadata": {},
   "source": [
    "## Which payment method generates the highest average order value?"
   ]
  },
  {
   "cell_type": "code",
   "execution_count": 74,
   "id": "05e35781-1da4-4b1d-ab2a-301ac29ffc69",
   "metadata": {},
   "outputs": [
    {
     "name": "stdout",
     "output_type": "stream",
     "text": [
      "payment_mode_x\n",
      "Cash on Delivery    229344.607716\n",
      "UPI                 227371.993135\n",
      "NetBanking          223500.011780\n",
      "Wallet              223373.838740\n",
      "Credit Card         222909.190812\n",
      "Debit Card          221004.898917\n",
      "Name: total_amount, dtype: float64\n"
     ]
    }
   ],
   "source": [
    "aov_payment = master_df.groupby('payment_mode_x')['total_amount'].mean().sort_values(ascending=False)\n",
    "print(aov_payment)\n"
   ]
  },
  {
   "cell_type": "markdown",
   "id": "8761d677-343f-434d-bf25-b7b94fa9d84d",
   "metadata": {},
   "source": [
    "# Time-Based Analysis"
   ]
  },
  {
   "cell_type": "markdown",
   "id": "85e38725-3327-410d-aac5-d3dce96ff84f",
   "metadata": {},
   "source": [
    "## What are the peak hours of the day for orders?"
   ]
  },
  {
   "cell_type": "code",
   "execution_count": 75,
   "id": "41dd19e1-fff8-459b-aef7-9f85b533d4a8",
   "metadata": {},
   "outputs": [
    {
     "name": "stdout",
     "output_type": "stream",
     "text": [
      "order_hour\n",
      "0    30000\n",
      "Name: order_id, dtype: int64\n"
     ]
    }
   ],
   "source": [
    "hourly_orders = master_df.groupby('order_hour')['order_id'].nunique()\n",
    "print(hourly_orders)\n"
   ]
  },
  {
   "cell_type": "markdown",
   "id": "465c70d1-811b-4530-9383-b7e44c6855b4",
   "metadata": {},
   "source": [
    "## What is the revenue contribution by day of the week?"
   ]
  },
  {
   "cell_type": "code",
   "execution_count": 76,
   "id": "a2332331-73eb-4ec6-a79a-755ac3284640",
   "metadata": {},
   "outputs": [
    {
     "name": "stdout",
     "output_type": "stream",
     "text": [
      "order_day\n",
      "Monday       2954299645\n",
      "Saturday     2937838447\n",
      "Friday       2902919233\n",
      "Thursday     2882258087\n",
      "Tuesday      2851683874\n",
      "Sunday       2841516985\n",
      "Wednesday    2811968738\n",
      "Name: total_amount, dtype: int64\n"
     ]
    }
   ],
   "source": [
    "day_revenue = master_df.groupby('order_day')['total_amount'].sum().sort_values(ascending=False)\n",
    "print(day_revenue)\n"
   ]
  },
  {
   "cell_type": "markdown",
   "id": "ef9896f0-6a05-4e97-8f87-7fb9a8b6d7e9",
   "metadata": {},
   "source": [
    "# Geographic Insights"
   ]
  },
  {
   "cell_type": "markdown",
   "id": "cfe6a88f-ba7a-4a63-b557-48216a89181b",
   "metadata": {},
   "source": [
    "## Which countries generate the highest revenue?"
   ]
  },
  {
   "cell_type": "code",
   "execution_count": 77,
   "id": "0aed278a-dd88-4c0e-acdd-3a39998581ff",
   "metadata": {},
   "outputs": [
    {
     "name": "stdout",
     "output_type": "stream",
     "text": [
      "country\n",
      "India         13747992863\n",
      " Canada         791066871\n",
      " Australia      762568070\n",
      " Japan          747379844\n",
      " Singapore      740841723\n",
      " France         740622983\n",
      " UAE            714545756\n",
      " USA            656983659\n",
      " UK             656239270\n",
      " Germany        624243970\n",
      "Name: total_amount, dtype: int64\n"
     ]
    }
   ],
   "source": [
    "country_revenue = master_df.groupby('country')['total_amount'].sum().sort_values(ascending=False).head(10)\n",
    "print(country_revenue)\n"
   ]
  },
  {
   "cell_type": "markdown",
   "id": "953b281f-a240-4429-8528-b67f303cba59",
   "metadata": {},
   "source": [
    "## What is the average order value per city?"
   ]
  },
  {
   "cell_type": "code",
   "execution_count": 78,
   "id": "cf0fe4de-83a8-404a-a36a-99de111993ad",
   "metadata": {},
   "outputs": [
    {
     "name": "stdout",
     "output_type": "stream",
     "text": [
      "city\n",
      "Sydney       237043.229717\n",
      "Toronto      235016.895722\n",
      "Lucknow      232433.998553\n",
      "Thane        228991.725947\n",
      "Nagpur       228043.316394\n",
      "Singapore    228021.459834\n",
      "Surat        227784.781749\n",
      "London       227387.134442\n",
      "Tokyo        227236.194588\n",
      "Delhi        226627.861301\n",
      "Name: total_amount, dtype: float64\n"
     ]
    }
   ],
   "source": [
    "city_aov = master_df.groupby('city')['total_amount'].mean().sort_values(ascending=False).head(10)\n",
    "print(city_aov)\n"
   ]
  },
  {
   "cell_type": "markdown",
   "id": "0d9a861f-c5a6-4a1c-94cb-815420248e80",
   "metadata": {},
   "source": [
    "# Discount Analysis"
   ]
  },
  {
   "cell_type": "markdown",
   "id": "b3891cc6-1c4e-4700-a5b9-6eee5b78dcd2",
   "metadata": {},
   "source": [
    "## Does giving discounts increase average order size (quantity)?"
   ]
  },
  {
   "cell_type": "code",
   "execution_count": 79,
   "id": "36da30bb-b28c-40db-81f3-160c3f02539d",
   "metadata": {},
   "outputs": [
    {
     "name": "stdout",
     "output_type": "stream",
     "text": [
      "discount_clean\n",
      "(0, 10]      2.510698\n",
      "(10, 20]     2.503966\n",
      "(20, 30]     2.502857\n",
      "(30, 50]     2.636364\n",
      "(50, 100]         NaN\n",
      "Name: quantity, dtype: float64\n"
     ]
    },
    {
     "name": "stderr",
     "output_type": "stream",
     "text": [
      "C:\\Users\\Sumit\\AppData\\Local\\Temp\\ipykernel_10644\\2128182596.py:1: FutureWarning: The default of observed=False is deprecated and will be changed to True in a future version of pandas. Pass observed=False to retain current behavior or observed=True to adopt the future default and silence this warning.\n",
      "  discount_quantity = master_df.groupby(pd.cut(master_df['discount_clean'], bins=[0,10,20,30,50,100]))['quantity'].mean()\n"
     ]
    }
   ],
   "source": [
    "discount_quantity = master_df.groupby(pd.cut(master_df['discount_clean'], bins=[0,10,20,30,50,100]))['quantity'].mean()\n",
    "print(discount_quantity)\n"
   ]
  },
  {
   "cell_type": "markdown",
   "id": "62be948c-4800-4db5-bcf3-98a4c75c6681",
   "metadata": {},
   "source": [
    "## What is the total revenue lost due to discounts?"
   ]
  },
  {
   "cell_type": "code",
   "execution_count": 80,
   "id": "85c7d943-1226-4524-8719-b5b8c59b6465",
   "metadata": {},
   "outputs": [
    {
     "name": "stdout",
     "output_type": "stream",
     "text": [
      "Total revenue lost due to discounts: 506814595.0\n"
     ]
    }
   ],
   "source": [
    "master_df['discount_loss'] = master_df['price'] * master_df['quantity'] * (master_df['discount_clean']/100)\n",
    "total_loss = master_df['discount_loss'].sum()\n",
    "print(f\"Total revenue lost due to discounts: {total_loss}\")\n"
   ]
  },
  {
   "cell_type": "markdown",
   "id": "86fb1b09-931e-4a19-868d-b0a137c5e90f",
   "metadata": {},
   "source": [
    "## Revenue by Brand (Top 10)"
   ]
  },
  {
   "cell_type": "code",
   "execution_count": 81,
   "id": "c6bcbf20-a652-4db2-af04-5078ac199853",
   "metadata": {},
   "outputs": [
    {
     "name": "stderr",
     "output_type": "stream",
     "text": [
      "C:\\Users\\Sumit\\AppData\\Local\\Temp\\ipykernel_10644\\480729517.py:4: FutureWarning: \n",
      "\n",
      "Passing `palette` without assigning `hue` is deprecated and will be removed in v0.14.0. Assign the `y` variable to `hue` and set `legend=False` for the same effect.\n",
      "\n",
      "  sns.barplot(x='total_amount', y='brand', data=brand_revenue, palette='viridis')\n"
     ]
    },
    {
     "data": {
      "image/png": "[encoded data removed]",
      "text/plain": [
       "<Figure size 1000x600 with 1 Axes>"
      ]
     },
     "metadata": {},
     "output_type": "display_data"
    }
   ],
   "source": [
    "brand_revenue = master_df.groupby('brand')['total_amount'].sum().sort_values(ascending=False).head(10).reset_index()\n",
    "\n",
    "plt.figure(figsize=(10,6))\n",
    "sns.barplot(x='total_amount', y='brand', data=brand_revenue, palette='viridis')\n",
    "plt.title(\"Top 10 Brands by Revenue\")\n",
    "plt.xlabel(\"Revenue\")\n",
    "plt.ylabel(\"Brand\")\n",
    "plt.show()"
   ]
  },
  {
   "cell_type": "markdown",
   "id": "0899bee5-842b-489b-bbb0-8c90bb8fac30",
   "metadata": {},
   "source": [
    "## Gender-wise Revenue Contribution"
   ]
  },
  {
   "cell_type": "code",
   "execution_count": 82,
   "id": "1e20bc92-19ac-4a7d-9785-144c73343de4",
   "metadata": {},
   "outputs": [
    {
     "name": "stderr",
     "output_type": "stream",
     "text": [
      "C:\\Users\\Sumit\\AppData\\Local\\Temp\\ipykernel_10644\\4255853378.py:4: FutureWarning: \n",
      "\n",
      "Passing `palette` without assigning `hue` is deprecated and will be removed in v0.14.0. Assign the `x` variable to `hue` and set `legend=False` for the same effect.\n",
      "\n",
      "  sns.barplot(x='gender', y='total_amount', data=gender_rev, palette='Set2')\n"
     ]
    },
    {
     "data": {
      "image/png": "[encoded data removed]",
      "text/plain": [
       "<Figure size 600x600 with 1 Axes>"
      ]
     },
     "metadata": {},
     "output_type": "display_data"
    }
   ],
   "source": [
    "gender_rev = master_df.groupby('gender')['total_amount'].sum().reset_index()\n",
    "\n",
    "plt.figure(figsize=(6,6))\n",
    "sns.barplot(x='gender', y='total_amount', data=gender_rev, palette='Set2')\n",
    "plt.title(\"Revenue Contribution by Gender\")\n",
    "plt.xlabel(\"Gender\")\n",
    "plt.ylabel(\"Total Revenue\")\n",
    "plt.show()\n"
   ]
  },
  {
   "cell_type": "markdown",
   "id": "80921df5-a488-4fc7-a43c-de4716918200",
   "metadata": {},
   "source": [
    "## Average Order Value by Payment Mode"
   ]
  },
  {
   "cell_type": "code",
   "execution_count": 83,
   "id": "d119d6d6-99ca-44bb-8d1c-5a216b7f6670",
   "metadata": {},
   "outputs": [
    {
     "name": "stderr",
     "output_type": "stream",
     "text": [
      "C:\\Users\\Sumit\\AppData\\Local\\Temp\\ipykernel_10644\\2359997983.py:4: FutureWarning: \n",
      "\n",
      "Passing `palette` without assigning `hue` is deprecated and will be removed in v0.14.0. Assign the `x` variable to `hue` and set `legend=False` for the same effect.\n",
      "\n",
      "  sns.barplot(x='payment_mode_x', y='total_amount', data=aov_payment, palette='coolwarm')\n"
     ]
    },
    {
     "data": {
      "image/png": "[encoded data removed]",
      "text/plain": [
       "<Figure size 800x600 with 1 Axes>"
      ]
     },
     "metadata": {},
     "output_type": "display_data"
    }
   ],
   "source": [
    "aov_payment = master_df.groupby('payment_mode_x')['total_amount'].mean().reset_index()\n",
    "\n",
    "plt.figure(figsize=(8,6))\n",
    "sns.barplot(x='payment_mode_x', y='total_amount', data=aov_payment, palette='coolwarm')\n",
    "plt.title(\"Average Order Value (AOV) by Payment Mode\")\n",
    "plt.xlabel(\"Payment Mode\")\n",
    "plt.ylabel(\"Average Order Value\")\n",
    "plt.show()\n"
   ]
  },
  {
   "cell_type": "markdown",
   "id": "862442e8-a6fe-4524-a732-49baba364afb",
   "metadata": {},
   "source": [
    "## Monthly Revenue Trend"
   ]
  },
  {
   "cell_type": "code",
   "execution_count": 84,
   "id": "089b5cd9-0a34-4a5d-987b-2e8e2e6f7d83",
   "metadata": {},
   "outputs": [
    {
     "data": {
      "image/png": "[encoded data removed]",
      "text/plain": [
       "<Figure size 1200x600 with 1 Axes>"
      ]
     },
     "metadata": {},
     "output_type": "display_data"
    }
   ],
   "source": [
    "master_df['order_date'] = pd.to_datetime(master_df['order_date'])\n",
    "master_df['year_month'] = master_df['order_date'].dt.to_period('M')\n",
    "\n",
    "monthly_revenue = master_df.groupby('year_month')['total_amount'].sum()\n",
    "\n",
    "plt.figure(figsize=(12,6))\n",
    "plt.plot(monthly_revenue.index.astype(str), monthly_revenue.values, marker='o')\n",
    "plt.title(\"Monthly Revenue Trend\")\n",
    "plt.xlabel(\"Month\")\n",
    "plt.ylabel(\"Revenue\")\n",
    "plt.xticks(rotation=45)\n",
    "plt.grid(True)\n",
    "plt.show()\n"
   ]
  },
  {
   "cell_type": "markdown",
   "id": "f862ca30-80e8-4769-8e41-8523c564633c",
   "metadata": {},
   "source": [
    "## Top 5 Cities by Revenue"
   ]
  },
  {
   "cell_type": "code",
   "execution_count": 85,
   "id": "4eee3b70-6f7c-4464-bb26-db122bcc13b4",
   "metadata": {},
   "outputs": [
    {
     "data": {
      "image/png": "[encoded data removed]",
      "text/plain": [
       "<Figure size 800x600 with 1 Axes>"
      ]
     },
     "metadata": {},
     "output_type": "display_data"
    }
   ],
   "source": [
    "city_revenue = master_df.groupby('city')['total_amount'].sum().sort_values(ascending=False).head(5)\n",
    "\n",
    "plt.figure(figsize=(8,6))\n",
    "city_revenue.plot(kind='bar', color='orange')\n",
    "plt.title(\"Top 5 Cities by Revenue\")\n",
    "plt.xlabel(\"City\")\n",
    "plt.ylabel(\"Revenue\")\n",
    "plt.show()\n"
   ]
  },
  {
   "cell_type": "code",
   "execution_count": 86,
   "id": "e975e433-0a8b-4762-8746-d51c7b06725b",
   "metadata": {},
   "outputs": [],
   "source": [
    "## Order Distribution by Hour of the Day"
   ]
  },
  {
   "cell_type": "code",
   "execution_count": 87,
   "id": "8e2e5cb0-08ea-4b2a-ab24-49076cbfaee0",
   "metadata": {},
   "outputs": [
    {
     "data": {
      "image/png": "[encoded data removed]",
      "text/plain": [
       "<Figure size 1000x600 with 1 Axes>"
      ]
     },
     "metadata": {},
     "output_type": "display_data"
    }
   ],
   "source": [
    "hourly_orders = master_df.groupby('order_hour')['order_id'].nunique()\n",
    "\n",
    "plt.figure(figsize=(10,6))\n",
    "plt.bar(hourly_orders.index, hourly_orders.values, color='teal')\n",
    "plt.title(\"Orders by Hour of the Day\")\n",
    "plt.xlabel(\"Hour of Day\")\n",
    "plt.ylabel(\"Number of Orders\")\n",
    "plt.xticks(range(0,24))\n",
    "plt.show()\n"
   ]
  },
  {
   "cell_type": "code",
   "execution_count": null,
   "id": "0611ba6e-d68d-47e3-a38b-147753ff31e0",
   "metadata": {},
   "outputs": [],
   "source": []
  }
 ],
 "metadata": {
  "kernelspec": {
   "display_name": "Python 3 (ipykernel)",
   "language": "python",
   "name": "python3"
  },
  "language_info": {
   "codemirror_mode": {
    "name": "ipython",
    "version": 3
   },
   "file_extension": ".py",
   "mimetype": "text/x-python",
   "name": "python",
   "nbconvert_exporter": "python",
   "pygments_lexer": "ipython3",
   "version": "3.13.1"
  }
 },
 "nbformat": 4,
 "nbformat_minor": 5
}
